{
 "cells": [
  {
   "cell_type": "markdown",
   "id": "d4fd8680",
   "metadata": {},
   "source": [
    "# COMPUTER VISION\n",
    "\n",
    "Video number 22\n",
    "\n",
    "Video : \"https://youtu.be/aDpnaxPAmtU?si=LbxtevtH-bzHan7i\""
   ]
  },
  {
   "cell_type": "markdown",
   "id": "b121c222",
   "metadata": {},
   "source": [
    "The area of Computer Science that deals with Image Classification, Object Detection, Video Processing, etc is called **Computer Vision**"
   ]
  },
  {
   "cell_type": "markdown",
   "id": "f9d54bd2",
   "metadata": {},
   "source": [
    "Due to Advancement in Deep Learning, Especially **Convolutional Neural Network (CNN)**, it has been possible to do alot of Amazing things in Computer Vision.\n",
    "\n",
    "Lets look at some of the real life Application of Computer Vision"
   ]
  },
  {
   "cell_type": "markdown",
   "id": "740784a7",
   "metadata": {},
   "source": [
    "# Applications:"
   ]
  },
  {
   "cell_type": "markdown",
   "id": "9596eb8c",
   "metadata": {},
   "source": [
    "### Google lens:\n",
    "For example, Using Google lens you can take a pic of a plant or an object then it can tell you what object is it, for example if ur walking on a park and u see a plant, before touching it, u can take a pic of it using Google lens and Google lens will detect and classify the image and tell you what plan is it so if its a Poisonous one then you wouldnt touch it."
   ]
  },
  {
   "cell_type": "markdown",
   "id": "9d603588",
   "metadata": {},
   "source": [
    "### Google Photos:\n",
    "Another example is in Google photos or in Apple photos, and if you have lots of pictures of your family or friends, it can identify them using their faces and create a seperate folder for each person with photos of them, So here its also using Computer Vision, CNN underneath to identify the faces of people in your photos."
   ]
  },
  {
   "cell_type": "markdown",
   "id": "d1900cf7",
   "metadata": {},
   "source": [
    "### Social Media Content Moderation:\n",
    " Platforms like Instagram and Facebook use CNNs to classify and filter out inappropriate content. When a user uploads a photo, the system automatically analyzes the image to detect and classify explicit or harmful content, preventing it from being displayed."
   ]
  },
  {
   "cell_type": "markdown",
   "id": "45c5eecb",
   "metadata": {},
   "source": [
    "### Crop Disease Detection:\n",
    "Using CNN-based mobile apps like Plantix, farmers can take pictures of their crops to detect diseases. The app classifies the images and identifies issues such as leaf spots, blight, and rust, providing immediate advice on treatment and management."
   ]
  },
  {
   "cell_type": "markdown",
   "id": "16548313",
   "metadata": {},
   "source": [
    "### Yield Estimation:\n",
    "Drones equipped with cameras capture images of fields. CNNs analyze these images to estimate crop yield by identifying and counting the number of fruits or estimating biomass. This helps farmers predict harvest sizes and plan logistics more effectively."
   ]
  },
  {
   "cell_type": "markdown",
   "id": "a41d4a16",
   "metadata": {},
   "source": [
    "### Medical Diagnosis with AI Tools:\n",
    "Using AI-powered tools like IBM Watson Health, doctors can upload medical images such as X-rays or MRIs. The tool classifies the images and helps identify conditions like lung cancer or brain tumors, providing a preliminary diagnosis that aids in quick and accurate treatment decisions."
   ]
  },
  {
   "cell_type": "markdown",
   "id": "43508b9f",
   "metadata": {},
   "source": [
    "### Autonomous cars:\n",
    "Autonomous cars use CNNs to detect and recognize objects on the road such as other vehicles, pedestrians, cyclists, traffic signs, and obstacles. Systems like Tesla’s Autopilot employ CNNs to process camera feeds, identify these objects, and make driving decisions to ensure safety."
   ]
  },
  {
   "cell_type": "markdown",
   "id": "c25fa44b",
   "metadata": {},
   "source": [
    "### Fraud Detection:\n",
    "CNNs can analyze images and videos from ATMs to detect suspicious activities like skimming devices or unusual transaction patterns. Systems like those developed by NCR use CNNs to enhance security and prevent fraud."
   ]
  },
  {
   "cell_type": "markdown",
   "id": "cd2f2e6f",
   "metadata": {},
   "source": [
    "### Customer Service Enhancement:\n",
    " CNNs can be used in virtual banking assistants to recognize and verify customer identities through facial recognition, streamlining the customer service process and enhancing security. Banks like HSBC use facial recognition for secure account access."
   ]
  },
  {
   "cell_type": "markdown",
   "id": "a5c7bb15",
   "metadata": {},
   "source": [
    "### Retail (Amazon Go)\n",
    "Amazon Go stores use a combination of CNNs and other AI technologies to enable a checkout-free shopping experience. Cameras and sensors track which items customers pick up and automatically charge their Amazon accounts when they leave the store."
   ]
  },
  {
   "cell_type": "markdown",
   "id": "dc4c188f",
   "metadata": {},
   "source": [
    "There are many more Industries where **Computer Vision** is being used.\n",
    "\n",
    "Make sure to watch this video by Google as they have mentioned in details about **Computer Vision** in various industries such as Warehouse automation, Damage analysis, Medical, etc.\n",
    "\n",
    "So basically **Computer Vision** is erupting, and all this is possible because of **Deep Learning**, because of **Convolutional Neural Network (CNN)**"
   ]
  },
  {
   "cell_type": "markdown",
   "id": "8ef983d9",
   "metadata": {},
   "source": [
    "Next Tutorial we will understand how **CNN** works and its various concepts"
   ]
  }
 ],
 "metadata": {
  "kernelspec": {
   "display_name": "Python 3 (ipykernel)",
   "language": "python",
   "name": "python3"
  },
  "language_info": {
   "codemirror_mode": {
    "name": "ipython",
    "version": 3
   },
   "file_extension": ".py",
   "mimetype": "text/x-python",
   "name": "python",
   "nbconvert_exporter": "python",
   "pygments_lexer": "ipython3",
   "version": "3.11.1"
  }
 },
 "nbformat": 4,
 "nbformat_minor": 5
}
